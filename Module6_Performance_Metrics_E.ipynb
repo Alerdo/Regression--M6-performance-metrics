{
 "cells": [
  {
   "cell_type": "code",
   "execution_count": 178,
   "id": "2549520a",
   "metadata": {},
   "outputs": [],
   "source": [
    "import numpy as np\n",
    "from sklearn.preprocessing import PolynomialFeatures\n",
    "from sklearn.linear_model import LinearRegression\n",
    "from sklearn.pipeline import Pipeline\n",
    "import pathlib as pl\n",
    "import os \n",
    "import pandas as pd"
   ]
  },
  {
   "cell_type": "markdown",
   "id": "0e8c6a33",
   "metadata": {},
   "source": [
    "# Metrics for Model Selection\n",
    "\n",
    "In this notebook you will fit polynomials to data to decide which order of polynomial is the best fit. Unlike before, the data you will be using is 3 dimensional, meaning it isn't possible to plot. Instead, you will write functions to calculate various metrics that are used to determine model fit. \n",
    "\n",
    "Complete this notebook, then answer the questions that go along side it. "
   ]
  },
  {
   "cell_type": "code",
   "execution_count": 179,
   "id": "4b83af6b",
   "metadata": {},
   "outputs": [],
   "source": [
    "# set random seed for reproducibility\n",
    "seed = 2022\n",
    "np.random.seed(seed)"
   ]
  },
  {
   "cell_type": "markdown",
   "id": "8f323453",
   "metadata": {},
   "source": [
    "## Load the data "
   ]
  },
  {
   "cell_type": "code",
   "execution_count": 180,
   "id": "97b160e4",
   "metadata": {},
   "outputs": [],
   "source": [
    "import pathlib as pl\n",
    "import os \n",
    "\n",
    "csv_path = pl.Path(os.getcwd()) / 'M6_Performance_Metrics_Data.csv'\n",
    "\n",
    "with open(csv_path, 'rb') as file:\n",
    "    data = pd.read_csv(file)"
   ]
  },
  {
   "cell_type": "code",
   "execution_count": 181,
   "id": "b2565b4f",
   "metadata": {},
   "outputs": [
    {
     "name": "stdout",
     "output_type": "stream",
     "text": [
      "   Unnamed: 0        x1        x2        x3          y\n",
      "0           0  0.382303 -1.596593  1.233776   4.935364\n",
      "1           1  1.902436  1.579109 -0.341741  25.138660\n",
      "2           2 -1.689244  1.298489 -1.472081  -4.786340\n",
      "3           3 -1.510509  1.937616 -1.600244  -3.185759\n",
      "4           4  1.621717  0.515558 -1.869644  19.712731\n"
     ]
    }
   ],
   "source": [
    "print(data.head())"
   ]
  },
  {
   "cell_type": "markdown",
   "id": "9d2d5f09",
   "metadata": {},
   "source": [
    "## Section 1 : Split the data into training, validation and test sets\n",
    "\n",
    "### TO DO: write a function that splits the data into traning, validation and test sets.\n",
    "\n",
    "The function should take as inputs the dataframe and the percentage splits for each of training, validation and test. It should output 3 dataframes, one for each of the sets. "
   ]
  },
  {
   "cell_type": "code",
   "execution_count": 182,
   "id": "b8b80816",
   "metadata": {},
   "outputs": [],
   "source": [
    "\n",
    "\n",
    "##### ANSWER ######\n",
    "\n",
    "def split_data(df, data_split):\n",
    "    \"\"\"function to divide a dataframe into training, validation and test dataframes\n",
    "    :param df: the full dataframe which is to be divided \n",
    "    :param data_split: a list containing the fraction of the full dataframe for each\n",
    "    of training, validation and test, in that order\n",
    "    :return training, validation, test: dataframes for each of the sets\"\"\"\n",
    "    \n",
    "    training = df.sample(frac=data_split[0])\n",
    "    validation = df.drop(training.index).sample(frac=data_split[1]*len(df)/len(df.drop(training.index)))\n",
    "    test = df.drop(validation.index).drop(training.index)\n",
    "    \n",
    "    return training, validation, test"
   ]
  },
  {
   "cell_type": "markdown",
   "id": "2d4f0de2",
   "metadata": {},
   "source": [
    "### TO DO: Use your function to split the data so the training set has 40% of the data and the validation and test sets have 30% of the data each"
   ]
  },
  {
   "cell_type": "code",
   "execution_count": 183,
   "id": "6e70a19b",
   "metadata": {},
   "outputs": [
    {
     "data": {
      "text/html": [
       "<div>\n",
       "<style scoped>\n",
       "    .dataframe tbody tr th:only-of-type {\n",
       "        vertical-align: middle;\n",
       "    }\n",
       "\n",
       "    .dataframe tbody tr th {\n",
       "        vertical-align: top;\n",
       "    }\n",
       "\n",
       "    .dataframe thead th {\n",
       "        text-align: right;\n",
       "    }\n",
       "</style>\n",
       "<table border=\"1\" class=\"dataframe\">\n",
       "  <thead>\n",
       "    <tr style=\"text-align: right;\">\n",
       "      <th></th>\n",
       "      <th>Unnamed: 0</th>\n",
       "      <th>x1</th>\n",
       "      <th>x2</th>\n",
       "      <th>x3</th>\n",
       "      <th>y</th>\n",
       "    </tr>\n",
       "  </thead>\n",
       "  <tbody>\n",
       "    <tr>\n",
       "      <th>79</th>\n",
       "      <td>79</td>\n",
       "      <td>-1.386593</td>\n",
       "      <td>1.158374</td>\n",
       "      <td>1.994851</td>\n",
       "      <td>12.563918</td>\n",
       "    </tr>\n",
       "    <tr>\n",
       "      <th>76</th>\n",
       "      <td>76</td>\n",
       "      <td>1.790229</td>\n",
       "      <td>0.389979</td>\n",
       "      <td>1.157690</td>\n",
       "      <td>9.563458</td>\n",
       "    </tr>\n",
       "    <tr>\n",
       "      <th>83</th>\n",
       "      <td>83</td>\n",
       "      <td>-1.893098</td>\n",
       "      <td>0.440954</td>\n",
       "      <td>-0.797749</td>\n",
       "      <td>-2.209804</td>\n",
       "    </tr>\n",
       "    <tr>\n",
       "      <th>5</th>\n",
       "      <td>5</td>\n",
       "      <td>-1.928868</td>\n",
       "      <td>-1.475115</td>\n",
       "      <td>-0.677217</td>\n",
       "      <td>24.007974</td>\n",
       "    </tr>\n",
       "  </tbody>\n",
       "</table>\n",
       "</div>"
      ],
      "text/plain": [
       "    Unnamed: 0        x1        x2        x3          y\n",
       "79          79 -1.386593  1.158374  1.994851  12.563918\n",
       "76          76  1.790229  0.389979  1.157690   9.563458\n",
       "83          83 -1.893098  0.440954 -0.797749  -2.209804\n",
       "5            5 -1.928868 -1.475115 -0.677217  24.007974"
      ]
     },
     "execution_count": 183,
     "metadata": {},
     "output_type": "execute_result"
    }
   ],
   "source": [
    "#### write your code here ####\n",
    "split_percentage = [0.4, 0.3, 0.3]\n",
    "training_df , validation_df, test_df = split_data(data, split_percentage)\n",
    "training_df.head(4)"
   ]
  },
  {
   "cell_type": "markdown",
   "id": "135eeba7",
   "metadata": {},
   "source": [
    "## Section 2: Write Metrics Functions \n",
    "\n",
    "### TO DO: Write the functions that calcluate the metrics you will use to evaluate the model fits\n",
    "\n",
    "Write Functions that return:\n",
    "- The mean absolute error\n",
    "- The average error\n",
    "- The mean absolute percentage error \n",
    "- The root mean squared error \n",
    "- The total sum of squared errors "
   ]
  },
  {
   "cell_type": "code",
   "execution_count": 184,
   "id": "fb389075",
   "metadata": {},
   "outputs": [],
   "source": [
    "import numpy as np\n",
    "\n",
    "def get_metrics(predicted_y, y):\n",
    "    # Ensure y and predicted_y are 1D arrays for consistent calculations\n",
    "    predicted_y = predicted_y.ravel()\n",
    "    y = y.ravel()\n",
    "\n",
    "    # Mean Absolute Error (MAE)\n",
    "    Mean_Absolute_Error = np.mean(np.abs(predicted_y - y))\n",
    "    \n",
    "    # Average Error\n",
    "    Average_Error = np.mean(predicted_y - y)\n",
    "    \n",
    "    # Mean Absolute Percentage Error (MAPE)\n",
    "    epsilon = 1e-10  # Small value to prevent division by zero\n",
    "    Mean_Absolute_Percentage_Error = np.mean(np.abs((y - predicted_y) / (y + epsilon))) * 100\n",
    "    \n",
    "    # Root Mean Squared Error (RMSE)\n",
    "    Root_Mean_Squared_Error = np.sqrt(np.mean((predicted_y - y) ** 2))\n",
    "    \n",
    "    # Total Sum of Squared Errors (SSE)\n",
    "    Total_Sum_of_Squared_Errors = np.sum((predicted_y - y) ** 2)\n",
    "    \n",
    "    # Return all metrics as a tuple\n",
    "    return (Mean_Absolute_Error, Average_Error, Mean_Absolute_Percentage_Error, \n",
    "            Root_Mean_Squared_Error, Total_Sum_of_Squared_Errors)\n"
   ]
  },
  {
   "cell_type": "markdown",
   "id": "f6e4f258",
   "metadata": {},
   "source": [
    "## Section 3: Fit models to training data and calculate performance metric on validation sets\n",
    "\n",
    "For polynomials of order 1, 2, 3, and 4, you will use fit_model to fit each each model. This function uses scikit-learn polynomial regression. \n",
    "\n",
    "\n",
    "### TODO: write function to convert dataframe into numpy arrays\n",
    "\n",
    "The scikit-learn functions take numpy arrays as their inputs. Therefore before you can fit any data you need to write a function to turn a dataframe with columns [x1, x2, x3, y] into two numpy arrays: X and y. X should have dimensions (N, D), where N is the number of data points and D is the dimensionality of the data (in this case 3). y should have dimensions (N, ). \n"
   ]
  },
  {
   "cell_type": "code",
   "execution_count": 185,
   "id": "206866ff",
   "metadata": {},
   "outputs": [],
   "source": [
    "# The below function it will give us a function that has the abiity to create a skit-learn PIPELINE OBJECT \n",
    "# that has the ability to return a object that is able to predict Y values based on the trained model \n",
    "# So this gets X, Y, and order of regression and can calculate the coeficients, and use those coeficents(within the obj)\n",
    "# to return the predicted Y values.\n",
    "\n",
    "\n",
    "def fit_model(X, y, order):\n",
    "    \"\"\"creates scikit-learn regression object and fits it to the X and y data\"\"\"\n",
    "    model = Pipeline([('poly', PolynomialFeatures(degree=order)),\n",
    "                      ('linear', LinearRegression(fit_intercept=False))])\n",
    "    model = model.fit(X, y)\n",
    "    return model \n",
    "\n",
    "#orders = range(1,7)\n",
    "#predicted_y = {}\n",
    "\n",
    "#for i in orders:\n",
    "#    model = fit_model(data[\"X\"], data[\"y\"], i )\n",
    " #   predicted_y[f\"Order {i}\"] = model.predict(data[\"X\"])\n",
    "\n"
   ]
  },
  {
   "cell_type": "code",
   "execution_count": 186,
   "id": "42198274",
   "metadata": {},
   "outputs": [],
   "source": [
    "### write your function here ## \n",
    "\n",
    "def df_to_numpy(df):\n",
    "    \n",
    "    X = df[['x1','x2', 'x3']].values\n",
    "    Y = df['y'].values\n",
    "    return X, Y\n"
   ]
  },
  {
   "cell_type": "markdown",
   "id": "3005500f",
   "metadata": {},
   "source": [
    "### TO DO: For polynomials of order 1 to 6 inclusive: \n",
    "1. Fit a polynomial to the training data using the fit_model function \n",
    "2. Use model.predict(X) to get the model predictions on the validation set\n",
    "3. Store the model in a dictionary of models where the keys indicate the order and the items are the models\n",
    "4. Store the predictions in a seperate dictionary where the keys indicate the order and the items are numpy arrays of the predictions "
   ]
  },
  {
   "cell_type": "code",
   "execution_count": 187,
   "id": "34b4f860",
   "metadata": {},
   "outputs": [],
   "source": [
    "## write your code here ##\n",
    "models = {}\n",
    "predictions_validation = {}\n",
    "X , Y = df_to_numpy(training_df)\n",
    "X_validation , Y_validation = df_to_numpy(validation_df)\n",
    "\n",
    "orders = range(1, 7)\n",
    "\n",
    "for i in orders:\n",
    "    model = fit_model(X, Y, i)\n",
    "    models[i] = model\n",
    "    predictions_validation[f\"Order {i}\"] = model.predict(X_validation)\n",
    "    \n",
    "#models, predictions_validation"
   ]
  },
  {
   "cell_type": "markdown",
   "id": "cc41eccd",
   "metadata": {},
   "source": [
    "## Section 4: Calculate metrics for each of the models\n",
    "\n",
    "Now we want to calculate the metrics for each of the models. \n",
    "\n",
    "\n",
    "### TODO: Use the dictionary of predictions you have to caluclate and record (could be in a dataframe, or you could plot it on a graph) each of the metrics. \n",
    "1. Calculate each of the metrics for the model using the functions you wrote before\n",
    "2. Store the metrics in a dataframe, with one row for each model or plot on a graph\n",
    "3. Answer the questions that go alongside this notebook \n",
    "\n",
    "HINT: you can write a list of functions of the form:\n",
    "\n",
    "methods = [RMSE, average_error, mean_abs_percent_error, total_sum_squared_error]\n",
    "\n",
    "which you can then iterate over using a for loop. \n",
    "\n"
   ]
  },
  {
   "cell_type": "code",
   "execution_count": 188,
   "id": "f9e87a35",
   "metadata": {},
   "outputs": [
    {
     "data": {
      "text/html": [
       "<div>\n",
       "<style scoped>\n",
       "    .dataframe tbody tr th:only-of-type {\n",
       "        vertical-align: middle;\n",
       "    }\n",
       "\n",
       "    .dataframe tbody tr th {\n",
       "        vertical-align: top;\n",
       "    }\n",
       "\n",
       "    .dataframe thead th {\n",
       "        text-align: right;\n",
       "    }\n",
       "</style>\n",
       "<table border=\"1\" class=\"dataframe\">\n",
       "  <thead>\n",
       "    <tr style=\"text-align: right;\">\n",
       "      <th></th>\n",
       "      <th>Degree</th>\n",
       "      <th>Mean_Absolute_Error</th>\n",
       "      <th>Average Error</th>\n",
       "      <th>MAPE</th>\n",
       "      <th>Root_Mean_Squared_Error</th>\n",
       "      <th>Total_Sum_of_Squared_Errors</th>\n",
       "    </tr>\n",
       "  </thead>\n",
       "  <tbody>\n",
       "    <tr>\n",
       "      <th>0</th>\n",
       "      <td>Order 1</td>\n",
       "      <td>5.101362</td>\n",
       "      <td>-1.203952</td>\n",
       "      <td>77.700468</td>\n",
       "      <td>7.683525</td>\n",
       "      <td>1771.096614</td>\n",
       "    </tr>\n",
       "    <tr>\n",
       "      <th>1</th>\n",
       "      <td>Order 2</td>\n",
       "      <td>2.624880</td>\n",
       "      <td>0.389437</td>\n",
       "      <td>56.927005</td>\n",
       "      <td>3.281847</td>\n",
       "      <td>323.115638</td>\n",
       "    </tr>\n",
       "    <tr>\n",
       "      <th>2</th>\n",
       "      <td>Order 3</td>\n",
       "      <td>4.805084</td>\n",
       "      <td>0.765551</td>\n",
       "      <td>86.271045</td>\n",
       "      <td>6.404143</td>\n",
       "      <td>1230.391453</td>\n",
       "    </tr>\n",
       "    <tr>\n",
       "      <th>3</th>\n",
       "      <td>Order 4</td>\n",
       "      <td>1.050130</td>\n",
       "      <td>-0.327957</td>\n",
       "      <td>15.689244</td>\n",
       "      <td>1.779720</td>\n",
       "      <td>95.022071</td>\n",
       "    </tr>\n",
       "    <tr>\n",
       "      <th>4</th>\n",
       "      <td>Order 5</td>\n",
       "      <td>1.799387</td>\n",
       "      <td>-0.123646</td>\n",
       "      <td>25.505965</td>\n",
       "      <td>2.955975</td>\n",
       "      <td>262.133689</td>\n",
       "    </tr>\n",
       "    <tr>\n",
       "      <th>5</th>\n",
       "      <td>Order 6</td>\n",
       "      <td>3.385550</td>\n",
       "      <td>1.603101</td>\n",
       "      <td>33.060392</td>\n",
       "      <td>8.298479</td>\n",
       "      <td>2065.942623</td>\n",
       "    </tr>\n",
       "  </tbody>\n",
       "</table>\n",
       "</div>"
      ],
      "text/plain": [
       "    Degree  Mean_Absolute_Error  Average Error       MAPE  \\\n",
       "0  Order 1             5.101362      -1.203952  77.700468   \n",
       "1  Order 2             2.624880       0.389437  56.927005   \n",
       "2  Order 3             4.805084       0.765551  86.271045   \n",
       "3  Order 4             1.050130      -0.327957  15.689244   \n",
       "4  Order 5             1.799387      -0.123646  25.505965   \n",
       "5  Order 6             3.385550       1.603101  33.060392   \n",
       "\n",
       "   Root_Mean_Squared_Error  Total_Sum_of_Squared_Errors  \n",
       "0                 7.683525                  1771.096614  \n",
       "1                 3.281847                   323.115638  \n",
       "2                 6.404143                  1230.391453  \n",
       "3                 1.779720                    95.022071  \n",
       "4                 2.955975                   262.133689  \n",
       "5                 8.298479                  2065.942623  "
      ]
     },
     "execution_count": 188,
     "metadata": {},
     "output_type": "execute_result"
    }
   ],
   "source": [
    "## write your code here ##\n",
    "method_names = ['Mean_Absolute_Error', 'Average Error', 'MAPE', 'Root_Mean_Squared_Error',\"Total_Sum_of_Squared_Errors\"]\n",
    "\n",
    "metrics_validation = pd.DataFrame(columns=[\"Degree\"] + method_names)\n",
    "\n",
    "for order, prediction_y in predictions_validation.items():\n",
    "    all_errors = get_metrics(prediction_y, Y_validation )\n",
    "    metrics_validation.loc[len(metrics_validation)] = [order] + list(all_errors)\n",
    "\n",
    "metrics_validation"
   ]
  },
  {
   "cell_type": "markdown",
   "id": "cf2caeaa",
   "metadata": {},
   "source": [
    "## Section 5: Use the test set to evaluate the performance of your chosen model\n",
    "\n",
    "### TODO: For your selected model, calculate the RMSE, Average Error and Mean Absolute Percentage Error of the test data"
   ]
  },
  {
   "cell_type": "code",
   "execution_count": 189,
   "id": "166cc0de",
   "metadata": {},
   "outputs": [],
   "source": [
    "## write your code here ## \n",
    "# I WILL CHOOSE MODEL 4 AS THE BEST FIT "
   ]
  },
  {
   "cell_type": "code",
   "execution_count": 190,
   "id": "a1130a05",
   "metadata": {},
   "outputs": [
    {
     "data": {
      "text/html": [
       "<div>\n",
       "<style scoped>\n",
       "    .dataframe tbody tr th:only-of-type {\n",
       "        vertical-align: middle;\n",
       "    }\n",
       "\n",
       "    .dataframe tbody tr th {\n",
       "        vertical-align: top;\n",
       "    }\n",
       "\n",
       "    .dataframe thead th {\n",
       "        text-align: right;\n",
       "    }\n",
       "</style>\n",
       "<table border=\"1\" class=\"dataframe\">\n",
       "  <thead>\n",
       "    <tr style=\"text-align: right;\">\n",
       "      <th></th>\n",
       "      <th>Degree</th>\n",
       "      <th>Mean_Absolute_Error</th>\n",
       "      <th>Average Error</th>\n",
       "      <th>MAPE</th>\n",
       "      <th>Root_Mean_Squared_Error</th>\n",
       "      <th>Total_Sum_of_Squared_Errors</th>\n",
       "    </tr>\n",
       "  </thead>\n",
       "  <tbody>\n",
       "    <tr>\n",
       "      <th>0</th>\n",
       "      <td>4.0</td>\n",
       "      <td>1.375387</td>\n",
       "      <td>0.039151</td>\n",
       "      <td>39.253005</td>\n",
       "      <td>2.447385</td>\n",
       "      <td>179.690746</td>\n",
       "    </tr>\n",
       "  </tbody>\n",
       "</table>\n",
       "</div>"
      ],
      "text/plain": [
       "   Degree  Mean_Absolute_Error  Average Error       MAPE  \\\n",
       "0     4.0             1.375387       0.039151  39.253005   \n",
       "\n",
       "   Root_Mean_Squared_Error  Total_Sum_of_Squared_Errors  \n",
       "0                 2.447385                   179.690746  "
      ]
     },
     "execution_count": 190,
     "metadata": {},
     "output_type": "execute_result"
    }
   ],
   "source": [
    "# Convert test DataFrame to NumPy arrays for X and y\n",
    "X_Test, Y_Test = df_to_numpy(test_df)\n",
    "\n",
    "metrics_df_test = pd.DataFrame(columns=[\"Degree\"] + method_names)\n",
    "\n",
    "degree = 4\n",
    "model = models[degree]\n",
    "\n",
    "y_prediction_test = model.predict(X_Test)\n",
    "\n",
    "error_results_test = get_metrics(y_prediction_test, Y_Test)\n",
    "metrics_df_test.loc[0] = [degree] + list(error_results_test)\n",
    "\n",
    "# Display the DataFrame with metrics for test data\n",
    "\n",
    "metrics_df_test"
   ]
  },
  {
   "cell_type": "code",
   "execution_count": null,
   "id": "81b6c72c",
   "metadata": {},
   "outputs": [],
   "source": []
  },
  {
   "cell_type": "code",
   "execution_count": null,
   "id": "07ebb4d3",
   "metadata": {},
   "outputs": [],
   "source": []
  },
  {
   "attachments": {
    "image.png": {
     "image/png": "[encoded data removed]"
    }
   },
   "cell_type": "markdown",
   "id": "96f90a69",
   "metadata": {},
   "source": [
    "print(training_df.describe())\n",
    "print(validation_df.describe())\n",
    "print(test_df.describe())\n",
    "![image.png](attachment:image.png)"
   ]
  },
  {
   "cell_type": "code",
   "execution_count": null,
   "id": "dbda7554",
   "metadata": {},
   "outputs": [],
   "source": [
    "\n"
   ]
  },
  {
   "cell_type": "code",
   "execution_count": null,
   "id": "d311a80e",
   "metadata": {},
   "outputs": [],
   "source": []
  },
  {
   "cell_type": "code",
   "execution_count": null,
   "id": "05ffe073",
   "metadata": {},
   "outputs": [],
   "source": []
  },
  {
   "cell_type": "code",
   "execution_count": null,
   "id": "53de8b69",
   "metadata": {},
   "outputs": [],
   "source": []
  },
  {
   "cell_type": "code",
   "execution_count": null,
   "id": "81df050d",
   "metadata": {},
   "outputs": [],
   "source": []
  },
  {
   "cell_type": "code",
   "execution_count": null,
   "id": "ff727e61",
   "metadata": {},
   "outputs": [],
   "source": []
  },
  {
   "cell_type": "code",
   "execution_count": null,
   "id": "6ddc943d",
   "metadata": {},
   "outputs": [],
   "source": []
  },
  {
   "cell_type": "code",
   "execution_count": null,
   "id": "6135940b",
   "metadata": {},
   "outputs": [],
   "source": []
  },
  {
   "cell_type": "code",
   "execution_count": null,
   "id": "8dc22a42",
   "metadata": {},
   "outputs": [],
   "source": []
  }
 ],
 "metadata": {
  "kernelspec": {
   "display_name": "Python 3 (ipykernel)",
   "language": "python",
   "name": "python3"
  },
  "language_info": {
   "codemirror_mode": {
    "name": "ipython",
    "version": 3
   },
   "file_extension": ".py",
   "mimetype": "text/x-python",
   "name": "python",
   "nbconvert_exporter": "python",
   "pygments_lexer": "ipython3",
   "version": "3.11.5"
  }
 },
 "nbformat": 4,
 "nbformat_minor": 5
}
